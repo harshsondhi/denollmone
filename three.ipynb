{
 "cells": [
  {
   "cell_type": "code",
   "execution_count": 1,
   "metadata": {},
   "outputs": [],
   "source": [
    "import * as mod from \"https://deno.land/std@0.213.0/dotenv/mod.ts\";\n",
    "import { \n",
    "    Document, \n",
    "    VectorStoreIndex, \n",
    "    SimpleDirectoryReader,\n",
    "    RouterQueryEngine,\n",
    "    OpenAIAgent,\n",
    "    QueryEngineTool,\n",
    "    FunctionTool,\n",
    "} from \"npm:llamaindex@0.1.18\"\n",
    "const keys = await mod.load({export:true}) // read API key from .env"
   ]
  },
  {
   "cell_type": "code",
   "execution_count": 3,
   "metadata": {},
   "outputs": [],
   "source": [
    "const OPENAI_API_KEY=\n",
    "const apiKey="
   ]
  },
  {
   "cell_type": "code",
   "execution_count": 4,
   "metadata": {},
   "outputs": [],
   "source": [
    "const documents1 = await new SimpleDirectoryReader().loadData({directoryPath: \"./data\"})\n",
    "const index1 = await VectorStoreIndex.fromDocuments(documents1)\n",
    "const queryEngine1 = index1.asQueryEngine()"
   ]
  },
  {
   "cell_type": "code",
   "execution_count": 6,
   "metadata": {},
   "outputs": [],
   "source": [
    "const documents2 = await new SimpleDirectoryReader().loadData({directoryPath: \"./data2\"})\n",
    "const index2 = await VectorStoreIndex.fromDocuments(documents2)\n",
    "const queryEngine2=index2.asQueryEngine()"
   ]
  },
  {
   "cell_type": "code",
   "execution_count": 7,
   "metadata": {},
   "outputs": [],
   "source": [
    "let response1 = await queryEngine1.query({query:\"What did author did before college?\"}); \n",
    "let response2 = await queryEngine2.query({query:\"What is React\"}); "
   ]
  },
  {
   "cell_type": "code",
   "execution_count": 10,
   "metadata": {},
   "outputs": [
    {
     "name": "stdout",
     "output_type": "stream",
     "text": [
      "Before college, the author finished high school in Russia in 2009.\n",
      "React is a JavaScript library for building user interfaces. It was officially open-sourced in May 2013 at JSConf US, marking a significant turning point in its adoption and growth. React allows for the development of dynamic and interactive user interfaces for web applications. It has undergone significant updates and improvements over the years, with features like React Fiber for improved rendering performance and React Native for native mobile app development.\n"
     ]
    }
   ],
   "source": [
    "console.log(response1.response)\n",
    "console.log(response2.response)"
   ]
  },
  {
   "cell_type": "code",
   "execution_count": 14,
   "metadata": {},
   "outputs": [],
   "source": [
    "const queryEngine = await RouterQueryEngine.fromDefaults({\n",
    "    queryEngineTools: [\n",
    "      {\n",
    "        queryEngine: queryEngine1,\n",
    "        description: \"Useful for questions about Dan Abramov\",\n",
    "      },\n",
    "      {\n",
    "        queryEngine: queryEngine2,\n",
    "        description: \"Useful for questions about the React library\",\n",
    "      },\n",
    "    ],\n",
    "  });"
   ]
  },
  {
   "cell_type": "code",
   "execution_count": 15,
   "metadata": {},
   "outputs": [],
   "source": [
    "let response3 = await queryEngine.query({query: \"What is react?\"});\n",
    "let response4 = await queryEngine.query({query: \"What did Dan Abramov do in colllege?\"});"
   ]
  },
  {
   "cell_type": "code",
   "execution_count": 16,
   "metadata": {},
   "outputs": [
    {
     "name": "stdout",
     "output_type": "stream",
     "text": [
      "React is a JavaScript library for building user interfaces. It was officially open-sourced in May 2013 at JSConf US, marking a significant turning point in its adoption and growth. React enables developers to create dynamic and interactive user interfaces for web applications. It has undergone significant updates and improvements over the years, with features like React Fiber, which introduced a new set of internal algorithms for rendering, and React 16.0 and React 18, which brought further enhancements and new features to the library.\n",
      "In college, Dan Abramov slacked off, skipped lectures, and eventually stopped attending altogether. He also returned his Macbook and did not show up for midterm exams.\n"
     ]
    }
   ],
   "source": [
    "console.log(response3.response);\n",
    "console.log(response4.response);"
   ]
  },
  {
   "cell_type": "code",
   "execution_count": 24,
   "metadata": {},
   "outputs": [],
   "source": [
    "function sumNumbers({a,b}) {\n",
    "    return a + b;\n",
    "  }"
   ]
  },
  {
   "cell_type": "code",
   "execution_count": 25,
   "metadata": {},
   "outputs": [],
   "source": [
    "const sumJSON = {\n",
    "    type: \"object\",\n",
    "    properties: {\n",
    "      a: {\n",
    "        type: \"number\",\n",
    "        description: \"The first number\",\n",
    "      },\n",
    "      b: {\n",
    "        type: \"number\",\n",
    "        description: \"The second number\",\n",
    "      },\n",
    "    },\n",
    "    required: [\"a\", \"b\"],\n",
    "  };"
   ]
  },
  {
   "cell_type": "code",
   "execution_count": 26,
   "metadata": {},
   "outputs": [],
   "source": [
    "const sumFunctionTool = new FunctionTool(sumNumbers, {\n",
    "    name: \"sumNumbers\",\n",
    "    description: \"Use this function to sum two numbers\",\n",
    "    parameters: sumJSON,\n",
    "  });"
   ]
  },
  {
   "cell_type": "code",
   "execution_count": 27,
   "metadata": {},
   "outputs": [],
   "source": [
    "const queryEngineTool = new QueryEngineTool({\n",
    "    queryEngine: queryEngine,\n",
    "    metadata: {\n",
    "        name: \"react_and_dan_abramov_engine\",\n",
    "        description: \"A tool that can answer questions about Dan Abramov and React\",\n",
    "    },\n",
    "});"
   ]
  },
  {
   "cell_type": "code",
   "execution_count": 21,
   "metadata": {},
   "outputs": [],
   "source": [
    "const agent = new OpenAIAgent(\n",
    "    {\n",
    "        tools: [sumFunctionTool,queryEngineTool],\n",
    "        verbose: true\n",
    "    }\n",
    ")"
   ]
  },
  {
   "cell_type": "code",
   "execution_count": 29,
   "metadata": {},
   "outputs": [
    {
     "name": "stdout",
     "output_type": "stream",
     "text": [
      "Added user message to memory!: What is React? Use a tool.\n",
      "=== Calling Function ===\n",
      "Calling function: react_and_dan_abramov_engine with args: {\n",
      "\"query\": \"What is React?\"\n",
      "}\n",
      "Got output React is a JavaScript library for building user interfaces. It was officially open-sourced in May 2013 at JSConf US, marking a significant turning point in its adoption and growth. React enables developers to create dynamic and interactive user interfaces for web applications. It has undergone significant updates and improvements over the years, including the introduction of React Fiber, a new set of internal algorithms for rendering, and the release of React 16.0 in September 2017. Additionally, React 18, released in March 2022, introduced a new concurrent renderer, automatic batching, and support for server-side rendering with Suspense.\n",
      "==========================\n",
      "React is a JavaScript library for building user interfaces. It was officially open-sourced in May 2013 and has since gained popularity for its ability to create dynamic and interactive web applications. React uses a component-based architecture, allowing developers to build reusable UI components and efficiently manage the state of their applications. It also utilizes a virtual DOM (Document Object Model) for efficient rendering and updates. React has a large and active community, with extensive documentation and a wide range of third-party libraries and tools available for development.\n"
     ]
    }
   ],
   "source": [
    "let response5 = await agent.chat({message:\"What is React? Use a tool.\"})\n",
    "console.log(response5.response)"
   ]
  },
  {
   "cell_type": "code",
   "execution_count": 30,
   "metadata": {},
   "outputs": [
    {
     "name": "stdout",
     "output_type": "stream",
     "text": [
      "Added user message to memory!: What is 501 + 5?\n",
      "=== Calling Function ===\n",
      "Calling function: sumNumbers with args: {\n",
      "\"a\": 501,\n",
      "\"b\": 5\n",
      "}\n",
      "Got output 506\n",
      "==========================\n",
      "The sum of 501 and 5 is 506.\n"
     ]
    }
   ],
   "source": [
    "let response6 = await agent.chat({message:\"What is 501 + 5?\"})\n",
    "console.log(response6.response)"
   ]
  }
 ],
 "metadata": {
  "kernelspec": {
   "display_name": "Deno",
   "language": "typescript",
   "name": "deno"
  },
  "language_info": {
   "file_extension": ".ts",
   "mimetype": "text/x.typescript",
   "name": "typescript",
   "nb_converter": "script",
   "pygments_lexer": "typescript",
   "version": "5.4.3"
  }
 },
 "nbformat": 4,
 "nbformat_minor": 2
}
