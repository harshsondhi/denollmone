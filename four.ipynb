{
 "cells": [
  {
   "cell_type": "code",
   "execution_count": 1,
   "metadata": {},
   "outputs": [],
   "source": [
    "import * as mod from \"https://deno.land/std@0.213.0/dotenv/mod.ts\";\n",
    "import { \n",
    "    Document, \n",
    "    VectorStoreIndex, \n",
    "    SimpleDirectoryReader,\n",
    "    RouterQueryEngine,\n",
    "    storageContextFromDefaults,\n",
    "    ContextChatEngine\n",
    "} from \"npm:llamaindex@0.1.12\"\n",
    "const keys = await mod.load({export:true}) // read API key from .env"
   ]
  },
  {
   "cell_type": "code",
   "execution_count": 3,
   "metadata": {},
   "outputs": [],
   "source": [
    "const OPENAI_API_KEY=\n",
    "const apiKey="
   ]
  },
  {
   "cell_type": "code",
   "execution_count": 4,
   "metadata": {},
   "outputs": [
    {
     "name": "stderr",
     "output_type": "stream",
     "text": [
      "No valid data found at path: storage\\doc_store.json starting new store.\n",
      "No valid data found at path: storage\\index_store.json starting new store.\n",
      "No valid data found at path: ./storage/vector_store.json starting new store.\n"
     ]
    }
   ],
   "source": [
    "const storageContext = await storageContextFromDefaults(\n",
    "    {\n",
    "        persistDir: \"./storage\",\n",
    "    }\n",
    ")"
   ]
  },
  {
   "cell_type": "code",
   "execution_count": 7,
   "metadata": {},
   "outputs": [],
   "source": [
    "const documents3 = await new SimpleDirectoryReader().loadData(\n",
    "    {\n",
    "        directoryPath: \"./data3\"\n",
    "    }\n",
    ");"
   ]
  },
  {
   "cell_type": "code",
   "execution_count": 9,
   "metadata": {},
   "outputs": [],
   "source": [
    "let index = await VectorStoreIndex.fromDocuments(\n",
    "    documents3,{\n",
    "        storageContext\n",
    "    }\n",
    ")"
   ]
  },
  {
   "cell_type": "code",
   "execution_count": 11,
   "metadata": {},
   "outputs": [
    {
     "name": "stdout",
     "output_type": "stream",
     "text": [
      "JSX is an extension syntax created by Facebook for JavaScript, similar to another extension syntax created by Facebook for PHP called XHP. It allows developers to write HTML-like code within JavaScript, making it easier to create and manipulate user interfaces in React components.\n"
     ]
    }
   ],
   "source": [
    "let engine = await index.asQueryEngine()\n",
    "let response = await engine.query({query: \"what is  jsx?\"})\n",
    "console.log(response.response)"
   ]
  },
  {
   "cell_type": "code",
   "execution_count": 13,
   "metadata": {},
   "outputs": [],
   "source": [
    "let storageContext2 = await storageContextFromDefaults({\n",
    "    persistDir: \"./storage\",\n",
    "});"
   ]
  },
  {
   "cell_type": "code",
   "execution_count": 14,
   "metadata": {},
   "outputs": [],
   "source": [
    "let index2 = await VectorStoreIndex.init({\n",
    "    storageContext: storageContext2\n",
    "});"
   ]
  },
  {
   "cell_type": "code",
   "execution_count": 15,
   "metadata": {},
   "outputs": [
    {
     "name": "stdout",
     "output_type": "stream",
     "text": [
      "JSX stands for JavaScript Syntax Extension. It is an extension to the JavaScript language syntax that provides a way to structure component rendering using syntax familiar to many developers. JSX is similar in appearance to HTML and is typically used to write React components, although components can also be written in pure JavaScript. It was created by Facebook and is similar to another extension syntax created for PHP called XHP.\n"
     ]
    }
   ],
   "source": [
    "let engine2 = await index2.asQueryEngine()\n",
    "let response2 = await engine2.query({query:\"What is JSX?\"})\n",
    "console.log(response2.response)"
   ]
  },
  {
   "cell_type": "code",
   "execution_count": 16,
   "metadata": {},
   "outputs": [
    {
     "data": {
      "text/plain": [
       "\u001b[33m3\u001b[39m"
      ]
     },
     "execution_count": 16,
     "metadata": {},
     "output_type": "execute_result"
    }
   ],
   "source": [
    "const retriever = index2.asRetriever();\n",
    "retriever.similarityTopK =3;\n",
    "\n",
    "let chatEngine = new ContextChatEngine({\n",
    "    retriever\n",
    "})"
   ]
  },
  {
   "cell_type": "code",
   "execution_count": 18,
   "metadata": {},
   "outputs": [],
   "source": [
    "let messageHistory = [\n",
    "    {\n",
    "        role: \"user\",\n",
    "        content: \"What is JSX?\"\n",
    "    },\n",
    "    {\n",
    "        role: \"assistant\",\n",
    "        content: \"JSX stands for JavaScript Syntax Extension. It is an extension to the JavaScript language syntax that provides a way to structure component rendering using syntax familiar to many developers. JSX is similar in appearance to HTML and is typically used to write React components, although components can also be written in pure JavaScript. It was created by Facebook and is similar to another extension syntax created for PHP called XHP.\"\n",
    "    }\n",
    "]"
   ]
  },
  {
   "cell_type": "code",
   "execution_count": 19,
   "metadata": {},
   "outputs": [],
   "source": [
    "let newMessage = \"What was that last thing you mentioned?\""
   ]
  },
  {
   "cell_type": "code",
   "execution_count": 21,
   "metadata": {},
   "outputs": [
    {
     "name": "stdout",
     "output_type": "stream",
     "text": [
      "I apologize for the confusion. The last thing I mentioned was XHP, an extension syntax created by Facebook for PHP. XHP stands for XML HTML Parser and is used to write PHP components in a way that resembles HTML. It provides a structured and type-safe approach to building UI components in PHP. XHP was developed by Facebook to enhance the maintainability and reusability of PHP code.\n"
     ]
    }
   ],
   "source": [
    "const response3 = await chatEngine.chat({\n",
    "    message: newMessage,\n",
    "    chatHistory: messageHistory\n",
    "  });\n",
    "  console.log(response3.response)"
   ]
  },
  {
   "cell_type": "code",
   "execution_count": 22,
   "metadata": {},
   "outputs": [
    {
     "name": "stdout",
     "output_type": "stream",
     "text": [
      "_async_generator$4 { _invoke: [Function: send] }\n"
     ]
    }
   ],
   "source": [
    "const response4 = await chatEngine.chat({\n",
    "    message: newMessage,\n",
    "    chatHistory: messageHistory,\n",
    "    stream: true,\n",
    "  });\n",
    "  console.log(response4)"
   ]
  },
  {
   "cell_type": "code",
   "execution_count": 23,
   "metadata": {},
   "outputs": [
    {
     "name": "stdout",
     "output_type": "stream",
     "text": [
      "\n",
      "I\n",
      " apologize\n",
      " for\n",
      " the\n",
      " confusion\n",
      ".\n",
      " The\n",
      " last\n",
      " thing\n",
      " I\n",
      " mentioned\n",
      " was\n",
      " X\n",
      "HP\n",
      ",\n",
      " an\n",
      " extension\n",
      " syntax\n",
      " created\n",
      " by\n",
      " Facebook\n",
      " for\n",
      " PHP\n",
      ".\n",
      " X\n",
      "HP\n",
      " stands\n",
      " for\n",
      " XML\n",
      " HTML\n",
      " Parser\n",
      " and\n",
      " is\n",
      " used\n",
      " to\n",
      " write\n",
      " PHP\n",
      " components\n",
      " in\n",
      " a\n",
      " way\n",
      " that\n",
      " resembles\n",
      " HTML\n",
      ".\n",
      " It\n",
      " provides\n",
      " a\n",
      " structured\n",
      " and\n",
      " type\n",
      "-safe\n",
      " approach\n",
      " to\n",
      " building\n",
      " UI\n",
      " components\n",
      " in\n",
      " PHP\n",
      ".\n",
      " X\n",
      "HP\n",
      " was\n",
      " developed\n",
      " by\n",
      " Facebook\n",
      " to\n",
      " enhance\n",
      " the\n",
      " maintain\n",
      "ability\n",
      " and\n",
      " re\n",
      "us\n",
      "ability\n",
      " of\n",
      " PHP\n",
      " code\n",
      ".\n",
      "\n"
     ]
    }
   ],
   "source": [
    "for await (const data of response4) {\n",
    "    console.log(data.response); // Print the data\n",
    "}\n"
   ]
  },
  {
   "cell_type": "code",
   "execution_count": null,
   "metadata": {},
   "outputs": [],
   "source": []
  }
 ],
 "metadata": {
  "kernelspec": {
   "display_name": "Deno",
   "language": "typescript",
   "name": "deno"
  },
  "language_info": {
   "file_extension": ".ts",
   "mimetype": "text/x.typescript",
   "name": "typescript",
   "nb_converter": "script",
   "pygments_lexer": "typescript",
   "version": "5.4.3"
  }
 },
 "nbformat": 4,
 "nbformat_minor": 2
}
