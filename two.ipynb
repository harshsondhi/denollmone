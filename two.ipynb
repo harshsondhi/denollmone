{
 "cells": [
  {
   "cell_type": "code",
   "execution_count": null,
   "metadata": {},
   "outputs": [],
   "source": [
    "const handler = (req) => {\n",
    "    const body = new TextEncoder().encode(\"Hello Harsh\");\n",
    "    return new Response(body, {status:200})\n",
    "}"
   ]
  },
  {
   "cell_type": "code",
   "execution_count": null,
   "metadata": {},
   "outputs": [],
   "source": [
    "let server = Deno.serve({port:8081}, handler);"
   ]
  },
  {
   "cell_type": "code",
   "execution_count": null,
   "metadata": {},
   "outputs": [],
   "source": [
    "const response = await fetch(\"http://localhost:8081\")"
   ]
  },
  {
   "cell_type": "code",
   "execution_count": null,
   "metadata": {},
   "outputs": [],
   "source": [
    "await response.text()"
   ]
  },
  {
   "cell_type": "code",
   "execution_count": null,
   "metadata": {},
   "outputs": [],
   "source": [
    "await server.shutdown()"
   ]
  },
  {
   "cell_type": "code",
   "execution_count": null,
   "metadata": {},
   "outputs": [],
   "source": [
    "import * as mod from \"https://deno.land/std@0.213.0/dotenv/mod.ts\";\n",
    "import { \n",
    "    Document, \n",
    "    VectorStoreIndex, \n",
    "    SimpleDirectoryReader \n",
    "} from \"npm:llamaindex@0.1.8\"\n",
    "const keys = await mod.load({export:true}) // read API key from .env\n",
    "\n",
    "const documents = await new SimpleDirectoryReader().loadData({directoryPath: \"./data\"})\n",
    "const index = await VectorStoreIndex.fromDocuments(documents)\n",
    "const queryEngine = index.asQueryEngine()"
   ]
  },
  {
   "cell_type": "code",
   "execution_count": null,
   "metadata": {},
   "outputs": [],
   "source": [
    "const OPENAI_API_KEY=\n",
    "const apiKey="
   ]
  },
  {
   "cell_type": "code",
   "execution_count": null,
   "metadata": {},
   "outputs": [],
   "source": [
    "const handler2 = async (req) => {\n",
    "    if(req.method == \"POST\") {\n",
    "        // we'll expect the incoming query to be a JSON object of the form {query: ...}\n",
    "        let data = await req.json()\n",
    "        let answer = await queryEngine.query({query: data.query})\n",
    "        // and our response will be a JSON object of the form {response: ...}\n",
    "        let responseObj = {\n",
    "            response: answer.toString()\n",
    "        }\n",
    "        return new Response(JSON.stringify(responseObj), { \n",
    "            status: 200\n",
    "        })\n",
    "    } else {\n",
    "        return new Response(\"Not found\", { status: 404 })\n",
    "    }\n",
    "}\n",
    "let server2 = Deno.serve( { port: 8002 }, handler2 )"
   ]
  },
  {
   "cell_type": "code",
   "execution_count": null,
   "metadata": {},
   "outputs": [],
   "source": [
    "let data = { query: \"How does the author feel about college?\" }"
   ]
  },
  {
   "cell_type": "code",
   "execution_count": null,
   "metadata": {},
   "outputs": [],
   "source": [
    "let response2 = await fetch(\"http://localhost:8002\", {\n",
    "  method: \"POST\",\n",
    "  headers: {\n",
    "    \"Content-Type\": \"application/json\"\n",
    "  },\n",
    "  body: JSON.stringify(data) // Convert the JavaScript object to a JSON string\n",
    "})"
   ]
  },
  {
   "cell_type": "code",
   "execution_count": null,
   "metadata": {},
   "outputs": [],
   "source": [
    "console.log(response2)"
   ]
  },
  {
   "cell_type": "code",
   "execution_count": null,
   "metadata": {},
   "outputs": [],
   "source": [
    "let responseObj = await response2.json()\n",
    "console.log(responseObj.response)"
   ]
  },
  {
   "cell_type": "code",
   "execution_count": null,
   "metadata": {},
   "outputs": [],
   "source": [
    "await server2.shutdown()"
   ]
  },
  {
   "cell_type": "code",
   "execution_count": 1,
   "metadata": {},
   "outputs": [],
   "source": [
    "import { runFrontend, runBackend, addToFrontend } from './utils.ts'"
   ]
  },
  {
   "cell_type": "code",
   "execution_count": 2,
   "metadata": {},
   "outputs": [
    {
     "name": "stdout",
     "output_type": "stream",
     "text": [
      "c:\\Users\\Admin\\deplearning.ai\\javascriptRAGOne\n"
     ]
    }
   ],
   "source": [
    "let rootDir = Deno.cwd()\n",
    "console.log(rootDir)"
   ]
  },
  {
   "cell_type": "code",
   "execution_count": 4,
   "metadata": {},
   "outputs": [
    {
     "ename": "NotFound",
     "evalue": "The system cannot find the file specified. (os error 2): chdir 'frontend'",
     "output_type": "error",
     "traceback": [
      "Stack trace:",
      "NotFound: The system cannot find the file specified. (os error 2): chdir 'frontend'",
      "    at Object.chdir (ext:deno_fs/30_fs.js:158:3)",
      "    at runFrontend (file:///C:/Users/Admin/deplearning.ai/javascriptRAGOne/utils.ts:4:10)",
      "    at <anonymous>:1:22"
     ]
    }
   ],
   "source": [
    "runFrontend()\n",
    "\n",
    "\n"
   ]
  },
  {
   "cell_type": "code",
   "execution_count": null,
   "metadata": {},
   "outputs": [],
   "source": [
    "runBackend()"
   ]
  }
 ],
 "metadata": {
  "kernelspec": {
   "display_name": "Deno",
   "language": "typescript",
   "name": "deno"
  },
  "language_info": {
   "file_extension": ".ts",
   "mimetype": "text/x.typescript",
   "name": "typescript",
   "nb_converter": "script",
   "pygments_lexer": "typescript",
   "version": "5.4.3"
  }
 },
 "nbformat": 4,
 "nbformat_minor": 2
}
